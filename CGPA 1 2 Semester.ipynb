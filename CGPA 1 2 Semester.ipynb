{
 "cells": [
  {
   "cell_type": "code",
   "execution_count": 7,
   "id": "50904145",
   "metadata": {},
   "outputs": [
    {
     "name": "stdout",
     "output_type": "stream",
     "text": [
      "GPA for Semester 1: 0.88\n",
      "GPA for Semester 2: 1.73\n",
      "My Cgoa is = : 1.3043343653250772\n"
     ]
    }
   ],
   "source": [
    "grade_points = {\n",
    "    'A': 4.0,\n",
    "    'A-': 3.7,\n",
    "    'B+': 3.3,\n",
    "    'B': 3.0,\n",
    "    'B-': 2.7,\n",
    "    'C+': 2.3,\n",
    "    'C': 2.0,\n",
    "    'C-': 1.7,\n",
    "    'D+': 1.3,\n",
    "    'D': 1.0,\n",
    "    'F': 0.0,\n",
    "} \n",
    "\n",
    "semester1 = [\n",
    "    {'course': 'calculas', 'grade': 'F', 'credits': 3},\n",
    "    {'course': 'EM', 'grade': 'F', 'credits': 3},\n",
    "    {'course': 'c_f', 'grade': 'D', 'credits': 2},\n",
    "    {'course': 'ethics', 'grade': 'B', 'credits': 2},\n",
    "    {'course': 'islamiyat', 'grade': 'D', 'credits': 2},\n",
    "    {'course': 'pak_study', 'grade': 'F', 'credits': 2},\n",
    "    {'course': 'c_f_lab', 'grade': 'D', 'credits': 1},\n",
    "    {'course': 'em_lab', 'grade': 'D', 'credits': 1},\n",
    "    {'course': 'eng_lab', 'grade': 'B', 'credits': 1},\n",
    "    \n",
    "]\n",
    "\n",
    "semester2 = [\n",
    "    {'course': 'computer_Programing', 'grade': 'F', 'credits': 3},\n",
    "    {'course': 'computer_Programing_Lab', 'grade': 'B', 'credits': 1},\n",
    "    {'course': 'Basic_Electrical_Engineering', 'grade': 'D', 'credits': 3},\n",
    "    {'course': 'Basic_Electrical_Engineering_Lab', 'grade': 'B', 'credits': 1},\n",
    "    {'course': 'linear_Algebra', 'grade': 'C-', 'credits': 3},\n",
    "    {'course': 'Engineering_Mechanics', 'grade': 'D', 'credits': 3},\n",
    "    {'course': 'Workshop_Technology', 'grade': 'B', 'credits': 1},\n",
    "    {'course': 'Workshop_Technology_Lab', 'grade': 'A-', 'credits': 1},\n",
    "    {'course': 'Composition_and_Comprehension', 'grade': 'B', 'credits': 3},\n",
    "\n",
    "]\n",
    "\n",
    "def calculate_semester_gpa(semester):\n",
    "    total_credits = 0\n",
    "    total_grade_points = 0\n",
    "\n",
    "    for course in semester:\n",
    "        grade = course['grade']\n",
    "        credits = course['credits']\n",
    "\n",
    "        total_credits += credits\n",
    "        total_grade_points += grade_points.get(grade, 0) * credits\n",
    "\n",
    "    if total_credits == 0:\n",
    "        return 0.0\n",
    "\n",
    "    gpa = total_grade_points / total_credits\n",
    "    return gpa\n",
    "\n",
    "\n",
    "gpa1 = calculate_semester_gpa(semester1)\n",
    "gpa2 = calculate_semester_gpa(semester2)\n",
    "\n",
    "print(f'GPA for Semester 1: {gpa1:.2f}')\n",
    "print(f'GPA for Semester 2: {gpa2:.2f}')\n",
    "Sum_gpa=gpa1+gpa2\n",
    "Cgpa=Sum_gpa/2\n",
    "print(f'My Cgoa is = : {Cgpa}')"
   ]
  },
  {
   "cell_type": "code",
   "execution_count": null,
   "id": "effa780e",
   "metadata": {},
   "outputs": [],
   "source": []
  }
 ],
 "metadata": {
  "kernelspec": {
   "display_name": "Python 3 (ipykernel)",
   "language": "python",
   "name": "python3"
  },
  "language_info": {
   "codemirror_mode": {
    "name": "ipython",
    "version": 3
   },
   "file_extension": ".py",
   "mimetype": "text/x-python",
   "name": "python",
   "nbconvert_exporter": "python",
   "pygments_lexer": "ipython3",
   "version": "3.9.12"
  }
 },
 "nbformat": 4,
 "nbformat_minor": 5
}
