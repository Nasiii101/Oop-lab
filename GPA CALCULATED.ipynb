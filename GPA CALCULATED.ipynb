{
 "cells": [
  {
   "cell_type": "code",
   "execution_count": 9,
   "id": "351ff13d",
   "metadata": {},
   "outputs": [
    {
     "name": "stdout",
     "output_type": "stream",
     "text": [
      "enter the grades of c\n",
      "Gradec-\n",
      "c-\n",
      "enter the grades of calculus\n",
      "Gradef\n",
      "f\n",
      "enter the grades of EM\n",
      "Gradef\n",
      "f\n",
      "enter the grades of pfes\n",
      "Gradeb\n",
      "b\n",
      "enter the grades of pakstudies\n",
      "Gradef\n",
      "f\n",
      "enter the grades of islamyiat\n",
      "Graded\n",
      "d\n",
      "enter the grades of comp_lab\n",
      "Graded\n",
      "d\n",
      "enter the grades of EM_lab\n",
      "Graded\n",
      "d\n",
      "enter the grades of EEd_lab\n",
      "Gradeb\n",
      "b\n",
      "2.0\n"
     ]
    }
   ],
   "source": [
    "a=['c','calculus','EM','pfes','pakstudies','islamyiat','comp_lab','EM_lab','EEd_lab']\n",
    "for j in a:\n",
    "    print(f'enter the grades of {j}')\n",
    "    i=input(str('Grade'))\n",
    "    print(i)\n",
    "    if(i=='A'):\n",
    "        p=4\n",
    "    elif(i=='A-'):\n",
    "        p=3.67\n",
    "    elif(i=='B+'):\n",
    "        p=3.3\n",
    "    elif(i=='B'):\n",
    "        p=3\n",
    "    elif(i=='B-'):\n",
    "        p=2.6\n",
    "    elif(i=='C+'):\n",
    "        p=2.8\n",
    "    elif(i=='C'):\n",
    "        p=2.5\n",
    "    elif(i=='C-'):\n",
    "        p=2\n",
    "    elif(i=='D+'):\n",
    "        p=1.8\n",
    "    elif(i=='D'):\n",
    "        p=1.5\n",
    "    elif(i=='D-'):\n",
    "        p=1\n",
    "    elif(i=='F'):\n",
    "        p=0\n",
    "        print(p)\n",
    "    if(j=='c'):\n",
    "        c=p*2\n",
    "    elif(j=='calculus'):\n",
    "        calculus=p*3\n",
    "    elif(j=='EM'):\n",
    "        EM=p*3\n",
    "    elif(j=='pfes'):\n",
    "        pfes=p*2\n",
    "    elif(j=='pakstudies'):\n",
    "        pakstudies=p*2\n",
    "    elif(j=='islamyiat'):\n",
    "        islamyiat=p*2\n",
    "    elif(j=='comp_lab'):\n",
    "        comp_lab=p*1\n",
    "    elif(j=='EM_lab'):\n",
    "        EM_lab=p*1\n",
    "    elif(j=='EEd_lab'):\n",
    "        EEd_lab=p*1\n",
    "   \n",
    "   \n",
    "        \n",
    "gpa=(c+calculus+EM+pfes+pakstudies+islamyiat+comp_lab+EM_lab+EEd_lab)/17\n",
    "print(gpa)"
   ]
  },
  {
   "cell_type": "code",
   "execution_count": null,
   "id": "bb97405b",
   "metadata": {},
   "outputs": [],
   "source": []
  },
  {
   "cell_type": "code",
   "execution_count": null,
   "id": "d73daf3c",
   "metadata": {},
   "outputs": [],
   "source": []
  },
  {
   "cell_type": "code",
   "execution_count": null,
   "id": "7a18782a",
   "metadata": {},
   "outputs": [],
   "source": []
  }
 ],
 "metadata": {
  "kernelspec": {
   "display_name": "Python 3 (ipykernel)",
   "language": "python",
   "name": "python3"
  },
  "language_info": {
   "codemirror_mode": {
    "name": "ipython",
    "version": 3
   },
   "file_extension": ".py",
   "mimetype": "text/x-python",
   "name": "python",
   "nbconvert_exporter": "python",
   "pygments_lexer": "ipython3",
   "version": "3.9.12"
  }
 },
 "nbformat": 4,
 "nbformat_minor": 5
}
